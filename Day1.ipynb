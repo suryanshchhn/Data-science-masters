{
 "cells": [
  {
   "cell_type": "code",
   "execution_count": 1,
   "id": "1e3904be-f05f-4728-b47f-c993e7b71606",
   "metadata": {},
   "outputs": [],
   "source": [
    "a=10"
   ]
  },
  {
   "cell_type": "code",
   "execution_count": 2,
   "id": "5758f3e3-6dc0-427c-bc27-2014edae3e56",
   "metadata": {},
   "outputs": [
    {
     "data": {
      "text/plain": [
       "10"
      ]
     },
     "execution_count": 2,
     "metadata": {},
     "output_type": "execute_result"
    }
   ],
   "source": [
    "a"
   ]
  },
  {
   "cell_type": "markdown",
   "id": "9be75104-9047-4986-9d69-f24870b2e8ee",
   "metadata": {},
   "source": [
    "##This is the intro section\n",
    "### welcome to pw Data science"
   ]
  },
  {
   "cell_type": "code",
   "execution_count": 7,
   "id": "4e1fcf9b-0d26-47a2-90f7-a241c805356a",
   "metadata": {},
   "outputs": [],
   "source": [
    "\"\"\"\n",
    "Example of multi line comments\n",
    "this is my first class\n",
    "ohhhh\n",
    "\"\"\"\n",
    "b = 20"
   ]
  },
  {
   "cell_type": "code",
   "execution_count": 8,
   "id": "62a46cca-d526-4a51-9beb-172ae0728beb",
   "metadata": {},
   "outputs": [
    {
     "data": {
      "text/plain": [
       "20"
      ]
     },
     "execution_count": 8,
     "metadata": {},
     "output_type": "execute_result"
    }
   ],
   "source": [
    "b"
   ]
  },
  {
   "cell_type": "markdown",
   "id": "8cc86b91-6eab-44c2-a461-0e71d419ed28",
   "metadata": {},
   "source": [
    "# hello\n",
    "## hello1\n",
    "### hello2\n",
    "\n",
    "1 hello guys how are you"
   ]
  },
  {
   "cell_type": "raw",
   "id": "5def5937-eace-4a33-8eb9-7205023c3837",
   "metadata": {},
   "source": [
    "let's test the raw function\n"
   ]
  },
  {
   "cell_type": "markdown",
   "id": "49dfb95c-eced-4eea-8c4c-f39c36a697a6",
   "metadata": {},
   "source": [
    "Numbers\n"
   ]
  },
  {
   "cell_type": "code",
   "execution_count": 9,
   "id": "8e61425f-a917-4573-867b-4d27a42a17d5",
   "metadata": {},
   "outputs": [
    {
     "data": {
      "text/plain": [
       "4"
      ]
     },
     "execution_count": 9,
     "metadata": {},
     "output_type": "execute_result"
    }
   ],
   "source": [
    "1+3"
   ]
  },
  {
   "cell_type": "code",
   "execution_count": 10,
   "id": "7d2dad31-d6a0-45f1-8432-594c3903c479",
   "metadata": {},
   "outputs": [
    {
     "name": "stdout",
     "output_type": "stream",
     "text": [
      "4\n"
     ]
    }
   ],
   "source": [
    "print(1+3)"
   ]
  },
  {
   "cell_type": "code",
   "execution_count": 12,
   "id": "cad32d75-7a9a-4fa5-a5e1-8e9767bc036c",
   "metadata": {},
   "outputs": [
    {
     "name": "stdout",
     "output_type": "stream",
     "text": [
      "hello world my name is suryansh \n",
      " i am studying python\n"
     ]
    }
   ],
   "source": [
    "print(\"hello world my name is suryansh \\n i am studying python\")"
   ]
  },
  {
   "cell_type": "markdown",
   "id": "94ebd638-cb5f-419a-a881-c9106a11509f",
   "metadata": {},
   "source": [
    "# variable Assignments\n"
   ]
  },
  {
   "cell_type": "code",
   "execution_count": 13,
   "id": "f73e32a6-9063-4d1f-9805-afd196fb6cc0",
   "metadata": {},
   "outputs": [],
   "source": [
    "name=\"Suryansh\"\n",
    "college=\"pwskills\""
   ]
  },
  {
   "cell_type": "code",
   "execution_count": 14,
   "id": "a107afc4-4b77-4045-980e-ef5eb89fc64d",
   "metadata": {},
   "outputs": [
    {
     "data": {
      "text/plain": [
       "'Suryansh'"
      ]
     },
     "execution_count": 14,
     "metadata": {},
     "output_type": "execute_result"
    }
   ],
   "source": [
    "name"
   ]
  },
  {
   "cell_type": "code",
   "execution_count": 15,
   "id": "f7d3518e-6b93-4c27-bfe5-c60b1db73630",
   "metadata": {},
   "outputs": [
    {
     "data": {
      "text/plain": [
       "'pwskills'"
      ]
     },
     "execution_count": 15,
     "metadata": {},
     "output_type": "execute_result"
    }
   ],
   "source": [
    "college"
   ]
  },
  {
   "cell_type": "code",
   "execution_count": 17,
   "id": "e81c72b0-43db-4baa-bc8f-a045224ed111",
   "metadata": {},
   "outputs": [
    {
     "data": {
      "text/plain": [
       "str"
      ]
     },
     "execution_count": 17,
     "metadata": {},
     "output_type": "execute_result"
    }
   ],
   "source": [
    "type(\"Suruynsh\")"
   ]
  },
  {
   "cell_type": "code",
   "execution_count": 18,
   "id": "bc64fc12-4bcc-4e86-8cdc-2e8b9177dc87",
   "metadata": {},
   "outputs": [],
   "source": [
    "number=20"
   ]
  },
  {
   "cell_type": "code",
   "execution_count": 19,
   "id": "23d28451-944b-4b1a-a48f-68519a109547",
   "metadata": {},
   "outputs": [
    {
     "data": {
      "text/plain": [
       "20"
      ]
     },
     "execution_count": 19,
     "metadata": {},
     "output_type": "execute_result"
    }
   ],
   "source": [
    "number"
   ]
  },
  {
   "cell_type": "code",
   "execution_count": 20,
   "id": "1eadea85-afce-4084-aee6-53050f371eaa",
   "metadata": {},
   "outputs": [
    {
     "data": {
      "text/plain": [
       "int"
      ]
     },
     "execution_count": 20,
     "metadata": {},
     "output_type": "execute_result"
    }
   ],
   "source": [
    "type(number)\n"
   ]
  },
  {
   "cell_type": "code",
   "execution_count": 21,
   "id": "c30ea8a0-4ae5-4954-a1da-a1054e932bea",
   "metadata": {},
   "outputs": [],
   "source": [
    "decimal=3.2"
   ]
  },
  {
   "cell_type": "code",
   "execution_count": 22,
   "id": "be507d75-f02e-4a2f-a720-2dc697dff9ed",
   "metadata": {},
   "outputs": [
    {
     "data": {
      "text/plain": [
       "3.2"
      ]
     },
     "execution_count": 22,
     "metadata": {},
     "output_type": "execute_result"
    }
   ],
   "source": [
    "decimal"
   ]
  },
  {
   "cell_type": "code",
   "execution_count": 23,
   "id": "21302edc-6ae5-435c-8091-679c89bfd35f",
   "metadata": {},
   "outputs": [
    {
     "data": {
      "text/plain": [
       "float"
      ]
     },
     "execution_count": 23,
     "metadata": {},
     "output_type": "execute_result"
    }
   ],
   "source": [
    "type(decimal)"
   ]
  },
  {
   "cell_type": "code",
   "execution_count": 24,
   "id": "828dd780-4b9b-4d59-ae93-81b3ec361563",
   "metadata": {},
   "outputs": [
    {
     "data": {
      "text/plain": [
       "complex"
      ]
     },
     "execution_count": 24,
     "metadata": {},
     "output_type": "execute_result"
    }
   ],
   "source": [
    "type(1+2j)"
   ]
  },
  {
   "cell_type": "code",
   "execution_count": null,
   "id": "aa039939-f68d-4371-b7d7-90bc312b6af0",
   "metadata": {},
   "outputs": [],
   "source": [
    "## bad way\n",
    "## don't start the variable name with numbers\n",
    "## 1a 2ansers"
   ]
  },
  {
   "cell_type": "code",
   "execution_count": null,
   "id": "7240f2ad-02cc-4fe6-83f4-4c9ff827226b",
   "metadata": {},
   "outputs": [],
   "source": [
    "number1=23"
   ]
  },
  {
   "cell_type": "code",
   "execution_count": 25,
   "id": "d6e282b5-cefd-4c8f-ac17-a47f99bd87c6",
   "metadata": {},
   "outputs": [
    {
     "name": "stdout",
     "output_type": "stream",
     "text": [
      "inuron\n",
      "PWSKILLS\n"
     ]
    }
   ],
   "source": [
    "## variables are case sensitive\n",
    "company=\"inuron\"\n",
    "Company=\"PWSKILLS\"\n",
    "print(company)\n",
    "print(Company)"
   ]
  },
  {
   "cell_type": "code",
   "execution_count": null,
   "id": "fe978da7-9bbf-427b-80dd-e04df71e5e2b",
   "metadata": {},
   "outputs": [],
   "source": [
    "## reserved keywords\n",
    "'''\n",
    "int,float,bool,str,return,yield,comlex,len\n",
    "'''"
   ]
  },
  {
   "cell_type": "code",
   "execution_count": 26,
   "id": "86b212e2-6557-403a-84a2-31f60fc9d73b",
   "metadata": {},
   "outputs": [
    {
     "data": {
      "text/plain": [
       "True"
      ]
     },
     "execution_count": 26,
     "metadata": {},
     "output_type": "execute_result"
    }
   ],
   "source": [
    "#Boolean\n",
    "True"
   ]
  },
  {
   "cell_type": "code",
   "execution_count": 27,
   "id": "66b1902d-224c-4d4f-8499-0bb8f190f6a5",
   "metadata": {},
   "outputs": [
    {
     "data": {
      "text/plain": [
       "False"
      ]
     },
     "execution_count": 27,
     "metadata": {},
     "output_type": "execute_result"
    }
   ],
   "source": [
    "False"
   ]
  },
  {
   "cell_type": "code",
   "execution_count": 28,
   "id": "cb1caabb-ee76-4986-a77b-dbb7404c6643",
   "metadata": {},
   "outputs": [
    {
     "data": {
      "text/plain": [
       "False"
      ]
     },
     "execution_count": 28,
     "metadata": {},
     "output_type": "execute_result"
    }
   ],
   "source": [
    "True and False"
   ]
  },
  {
   "cell_type": "code",
   "execution_count": 29,
   "id": "88c90eef-385c-47b5-a650-5e6da10c39ce",
   "metadata": {},
   "outputs": [
    {
     "data": {
      "text/plain": [
       "True"
      ]
     },
     "execution_count": 29,
     "metadata": {},
     "output_type": "execute_result"
    }
   ],
   "source": [
    "True or False "
   ]
  },
  {
   "cell_type": "code",
   "execution_count": 31,
   "id": "d5839067-401a-4253-96e6-743f0e4abe1e",
   "metadata": {},
   "outputs": [
    {
     "data": {
      "text/plain": [
       "False"
      ]
     },
     "execution_count": 31,
     "metadata": {},
     "output_type": "execute_result"
    }
   ],
   "source": [
    "not True"
   ]
  },
  {
   "cell_type": "code",
   "execution_count": 32,
   "id": "36f68902-1bc4-40bd-a457-d083c5cdc8a3",
   "metadata": {},
   "outputs": [
    {
     "data": {
      "text/plain": [
       "True"
      ]
     },
     "execution_count": 32,
     "metadata": {},
     "output_type": "execute_result"
    }
   ],
   "source": [
    "not False"
   ]
  },
  {
   "cell_type": "code",
   "execution_count": 33,
   "id": "ab0b6a73-4058-484f-ad15-7395faa87850",
   "metadata": {},
   "outputs": [
    {
     "data": {
      "text/plain": [
       "bool"
      ]
     },
     "execution_count": 33,
     "metadata": {},
     "output_type": "execute_result"
    }
   ],
   "source": [
    "type(not False)"
   ]
  },
  {
   "cell_type": "code",
   "execution_count": 34,
   "id": "49c4a1bc-37a2-4dab-857f-1590a81f47d7",
   "metadata": {},
   "outputs": [
    {
     "data": {
      "text/plain": [
       "False"
      ]
     },
     "execution_count": 34,
     "metadata": {},
     "output_type": "execute_result"
    }
   ],
   "source": [
    "##TYPECASTING\n",
    "bool(0)"
   ]
  },
  {
   "cell_type": "code",
   "execution_count": 35,
   "id": "d013c5ca-73f2-4797-8bae-b565e5d124cb",
   "metadata": {},
   "outputs": [
    {
     "data": {
      "text/plain": [
       "True"
      ]
     },
     "execution_count": 35,
     "metadata": {},
     "output_type": "execute_result"
    }
   ],
   "source": [
    "bool(1)"
   ]
  },
  {
   "cell_type": "code",
   "execution_count": 36,
   "id": "da8994d6-29a7-4149-acd8-ebba8a60b61f",
   "metadata": {},
   "outputs": [
    {
     "data": {
      "text/plain": [
       "'23'"
      ]
     },
     "execution_count": 36,
     "metadata": {},
     "output_type": "execute_result"
    }
   ],
   "source": [
    "str(23)"
   ]
  },
  {
   "cell_type": "code",
   "execution_count": 37,
   "id": "c257137e-cab4-4d51-91af-32b5e0ef54be",
   "metadata": {},
   "outputs": [
    {
     "data": {
      "text/plain": [
       "23"
      ]
     },
     "execution_count": 37,
     "metadata": {},
     "output_type": "execute_result"
    }
   ],
   "source": [
    "int('23')"
   ]
  },
  {
   "cell_type": "code",
   "execution_count": 38,
   "id": "37ea6de8-73d2-4778-998c-b773d428b51b",
   "metadata": {},
   "outputs": [
    {
     "data": {
      "text/plain": [
       "int"
      ]
     },
     "execution_count": 38,
     "metadata": {},
     "output_type": "execute_result"
    }
   ],
   "source": [
    "type(int('23'))"
   ]
  },
  {
   "cell_type": "markdown",
   "id": "4c730ee7-b65a-4184-b1a6-59209e1b2e3b",
   "metadata": {},
   "source": [
    "# Dynamic typing"
   ]
  },
  {
   "cell_type": "code",
   "execution_count": 40,
   "id": "71633710-72a7-4acc-9d4e-9cf9bc755784",
   "metadata": {},
   "outputs": [],
   "source": [
    "a=12\n",
    "str1=\"suryansh\"\n",
    "a=\"rajni\""
   ]
  },
  {
   "cell_type": "code",
   "execution_count": 41,
   "id": "04b1c905-b28d-4b5f-96dd-b4bc99d94e08",
   "metadata": {},
   "outputs": [
    {
     "name": "stdout",
     "output_type": "stream",
     "text": [
      "<class 'str'>\n"
     ]
    }
   ],
   "source": [
    "print(type(a))"
   ]
  },
  {
   "cell_type": "code",
   "execution_count": 42,
   "id": "8ead080b-4eaf-40a3-b6bd-17da16bebfd9",
   "metadata": {},
   "outputs": [
    {
     "data": {
      "text/plain": [
       "str"
      ]
     },
     "execution_count": 42,
     "metadata": {},
     "output_type": "execute_result"
    }
   ],
   "source": [
    "type(a)"
   ]
  },
  {
   "cell_type": "code",
   "execution_count": 43,
   "id": "4ddfb0d5-c723-4a7d-95fa-d12f8b8aba03",
   "metadata": {},
   "outputs": [],
   "source": [
    "##cancatenation between different types"
   ]
  },
  {
   "cell_type": "code",
   "execution_count": 44,
   "id": "936dfaa2-a4fd-4ced-ae9e-905cac0ee378",
   "metadata": {},
   "outputs": [
    {
     "data": {
      "text/plain": [
       "'11'"
      ]
     },
     "execution_count": 44,
     "metadata": {},
     "output_type": "execute_result"
    }
   ],
   "source": [
    "\"1\" + \"1\""
   ]
  },
  {
   "cell_type": "code",
   "execution_count": 47,
   "id": "c7aea6a4-4424-449f-9bda-0aa7998e53ce",
   "metadata": {},
   "outputs": [
    {
     "data": {
      "text/plain": [
       "2"
      ]
     },
     "execution_count": 47,
     "metadata": {},
     "output_type": "execute_result"
    }
   ],
   "source": [
    "int(\"1\") + int(\"1\")"
   ]
  },
  {
   "cell_type": "code",
   "execution_count": 48,
   "id": "77dd212c-e415-4376-b00c-2c5c87ee611f",
   "metadata": {},
   "outputs": [
    {
     "data": {
      "text/plain": [
       "'1111111111'"
      ]
     },
     "execution_count": 48,
     "metadata": {},
     "output_type": "execute_result"
    }
   ],
   "source": [
    "\"1\"*10"
   ]
  },
  {
   "cell_type": "code",
   "execution_count": null,
   "id": "72fe41d7-d292-45b4-b5e6-e3194caa9497",
   "metadata": {},
   "outputs": [],
   "source": []
  },
  {
   "cell_type": "code",
   "execution_count": null,
   "id": "794bbc49-46dc-4c62-8c5d-8637f4004fe2",
   "metadata": {},
   "outputs": [],
   "source": []
  },
  {
   "cell_type": "code",
   "execution_count": null,
   "id": "0ace070e-60d8-43a6-bff9-26be334bfc4b",
   "metadata": {},
   "outputs": [],
   "source": []
  },
  {
   "cell_type": "code",
   "execution_count": null,
   "id": "660545e2-76d2-48e8-a45e-929f6392ac78",
   "metadata": {},
   "outputs": [],
   "source": []
  },
  {
   "cell_type": "code",
   "execution_count": null,
   "id": "7eea8f14-3f15-4afb-a9ed-746759343668",
   "metadata": {},
   "outputs": [],
   "source": []
  },
  {
   "cell_type": "code",
   "execution_count": null,
   "id": "5f037b04-9a04-492f-9ff9-3bc3071788bc",
   "metadata": {},
   "outputs": [],
   "source": []
  },
  {
   "cell_type": "code",
   "execution_count": null,
   "id": "59c8cdb0-7e9c-4a0a-9410-327acfb2c209",
   "metadata": {},
   "outputs": [],
   "source": []
  }
 ],
 "metadata": {
  "kernelspec": {
   "display_name": "Python 3 (ipykernel)",
   "language": "python",
   "name": "python3"
  },
  "language_info": {
   "codemirror_mode": {
    "name": "ipython",
    "version": 3
   },
   "file_extension": ".py",
   "mimetype": "text/x-python",
   "name": "python",
   "nbconvert_exporter": "python",
   "pygments_lexer": "ipython3",
   "version": "3.10.8"
  }
 },
 "nbformat": 4,
 "nbformat_minor": 5
}
